{
  "nbformat": 4,
  "nbformat_minor": 0,
  "metadata": {
    "colab": {
      "name": "CampusRecruitementSolution.ipynb",
      "provenance": []
    },
    "kernelspec": {
      "name": "python3",
      "display_name": "Python 3"
    },
    "language_info": {
      "name": "python"
    },
    "accelerator": "GPU"
  },
  "cells": [
    {
      "cell_type": "markdown",
      "metadata": {
        "id": "qLdaeG_Wg8lS"
      },
      "source": [
        "# Install catboost"
      ]
    },
    {
      "cell_type": "code",
      "metadata": {
        "colab": {
          "base_uri": "https://localhost:8080/"
        },
        "id": "NzoyNL86xAzv",
        "outputId": "87571bbb-b731-4e2b-c86a-a8e64ab72f1e"
      },
      "source": [
        "!pip install catboost"
      ],
      "execution_count": null,
      "outputs": [
        {
          "output_type": "stream",
          "text": [
            "Requirement already satisfied: catboost in /usr/local/lib/python3.7/dist-packages (0.26)\n",
            "Requirement already satisfied: scipy in /usr/local/lib/python3.7/dist-packages (from catboost) (1.4.1)\n",
            "Requirement already satisfied: pandas>=0.24.0 in /usr/local/lib/python3.7/dist-packages (from catboost) (1.1.5)\n",
            "Requirement already satisfied: numpy>=1.16.0 in /usr/local/lib/python3.7/dist-packages (from catboost) (1.19.5)\n",
            "Requirement already satisfied: six in /usr/local/lib/python3.7/dist-packages (from catboost) (1.15.0)\n",
            "Requirement already satisfied: graphviz in /usr/local/lib/python3.7/dist-packages (from catboost) (0.10.1)\n",
            "Requirement already satisfied: plotly in /usr/local/lib/python3.7/dist-packages (from catboost) (4.4.1)\n",
            "Requirement already satisfied: matplotlib in /usr/local/lib/python3.7/dist-packages (from catboost) (3.2.2)\n",
            "Requirement already satisfied: python-dateutil>=2.7.3 in /usr/local/lib/python3.7/dist-packages (from pandas>=0.24.0->catboost) (2.8.1)\n",
            "Requirement already satisfied: pytz>=2017.2 in /usr/local/lib/python3.7/dist-packages (from pandas>=0.24.0->catboost) (2018.9)\n",
            "Requirement already satisfied: cycler>=0.10 in /usr/local/lib/python3.7/dist-packages (from matplotlib->catboost) (0.10.0)\n",
            "Requirement already satisfied: kiwisolver>=1.0.1 in /usr/local/lib/python3.7/dist-packages (from matplotlib->catboost) (1.3.1)\n",
            "Requirement already satisfied: pyparsing!=2.0.4,!=2.1.2,!=2.1.6,>=2.0.1 in /usr/local/lib/python3.7/dist-packages (from matplotlib->catboost) (2.4.7)\n",
            "Requirement already satisfied: retrying>=1.3.3 in /usr/local/lib/python3.7/dist-packages (from plotly->catboost) (1.3.3)\n"
          ],
          "name": "stdout"
        }
      ]
    },
    {
      "cell_type": "markdown",
      "metadata": {
        "id": "mfPKy88dhBFn"
      },
      "source": [
        "# Loading Libraries"
      ]
    },
    {
      "cell_type": "code",
      "metadata": {
        "id": "Del30yznxE_U"
      },
      "source": [
        "# Installation of required libraries\n",
        "import pandas as pd\n",
        "import numpy as np\n",
        "import seaborn as sns\n",
        "import matplotlib.pyplot as plt\n",
        "\n",
        "from sklearn.linear_model import LogisticRegression  \n",
        "from sklearn.neighbors import KNeighborsClassifier  \n",
        "from sklearn.svm import SVC\n",
        "from sklearn.tree import DecisionTreeClassifier \n",
        "from sklearn.ensemble import RandomForestClassifier\n",
        "from xgboost import XGBClassifier\n",
        "from lightgbm import LGBMClassifier\n",
        "from sklearn.ensemble import GradientBoostingClassifier\n",
        "from catboost import CatBoostClassifier\n",
        "from sklearn.model_selection import train_test_split\n",
        "from sklearn import preprocessing\n",
        "from sklearn.metrics import accuracy_score\n",
        "from sklearn.model_selection import KFold\n",
        "from sklearn.model_selection import cross_val_score, GridSearchCV\n",
        "\n",
        "import warnings\n",
        "warnings.filterwarnings(\"ignore\", category=DeprecationWarning) \n",
        "warnings.filterwarnings(\"ignore\", category=FutureWarning) \n",
        "warnings.filterwarnings(\"ignore\", category=UserWarning) \n",
        "\n",
        "%config InlineBackend.figure_format = 'retina'\n",
        "import numpy as np # Fundamental package for linear algebra and multidimensional arrays\n",
        "import pandas as pd # Data analysis and manipulation tool\n",
        "\n",
        "# to ignore warnings\n",
        "import warnings\n",
        "warnings.filterwarnings(\"ignore\")\n",
        "\n",
        "# to display all columns and rows:\n",
        "pd.set_option('display.max_columns', None); pd.set_option('display.max_rows', None);"
      ],
      "execution_count": null,
      "outputs": []
    },
    {
      "cell_type": "markdown",
      "metadata": {
        "id": "Jl56yV-HhecX"
      },
      "source": [
        "#  Loading and preparing training data"
      ]
    },
    {
      "cell_type": "code",
      "metadata": {
        "colab": {
          "base_uri": "https://localhost:8080/"
        },
        "id": "vBL5_afdvvgX",
        "outputId": "2bce8bc9-4f43-41ca-e036-5f786c766785"
      },
      "source": [
        "# In read_csv() function, we have passed the location to where the files are located in the dphi official github page.\n",
        "train_data = pd.read_csv(\"/content/drive/MyDrive/Dphi_Competition/Campus Recruitment/Train_Data.csv\")\n",
        "\n",
        "train_data.info()\n"
      ],
      "execution_count": null,
      "outputs": [
        {
          "output_type": "stream",
          "text": [
            "<class 'pandas.core.frame.DataFrame'>\n",
            "RangeIndex: 670 entries, 0 to 669\n",
            "Data columns (total 13 columns):\n",
            " #   Column          Non-Null Count  Dtype  \n",
            "---  ------          --------------  -----  \n",
            " 0   gender          670 non-null    object \n",
            " 1   ssc_p           670 non-null    float64\n",
            " 2   ssc_b           670 non-null    object \n",
            " 3   hsc_p           670 non-null    float64\n",
            " 4   hsc_b           670 non-null    object \n",
            " 5   hsc_s           670 non-null    object \n",
            " 6   degree_p        670 non-null    float64\n",
            " 7   degree_t        670 non-null    object \n",
            " 8   etest_p         670 non-null    float64\n",
            " 9   mba_p           670 non-null    float64\n",
            " 10  specialisation  670 non-null    object \n",
            " 11  workex          670 non-null    object \n",
            " 12  status          670 non-null    object \n",
            "dtypes: float64(5), object(8)\n",
            "memory usage: 68.2+ KB\n"
          ],
          "name": "stdout"
        }
      ]
    },
    {
      "cell_type": "code",
      "metadata": {
        "colab": {
          "base_uri": "https://localhost:8080/",
          "height": 258
        },
        "id": "qUbtxH7Qv1o8",
        "outputId": "ad4e38a2-cabf-4ad2-b7da-7f3b1e5af794"
      },
      "source": [
        "train_data.head()"
      ],
      "execution_count": null,
      "outputs": [
        {
          "output_type": "execute_result",
          "data": {
            "text/html": [
              "<div>\n",
              "<style scoped>\n",
              "    .dataframe tbody tr th:only-of-type {\n",
              "        vertical-align: middle;\n",
              "    }\n",
              "\n",
              "    .dataframe tbody tr th {\n",
              "        vertical-align: top;\n",
              "    }\n",
              "\n",
              "    .dataframe thead th {\n",
              "        text-align: right;\n",
              "    }\n",
              "</style>\n",
              "<table border=\"1\" class=\"dataframe\">\n",
              "  <thead>\n",
              "    <tr style=\"text-align: right;\">\n",
              "      <th></th>\n",
              "      <th>gender</th>\n",
              "      <th>ssc_p</th>\n",
              "      <th>ssc_b</th>\n",
              "      <th>hsc_p</th>\n",
              "      <th>hsc_b</th>\n",
              "      <th>hsc_s</th>\n",
              "      <th>degree_p</th>\n",
              "      <th>degree_t</th>\n",
              "      <th>etest_p</th>\n",
              "      <th>mba_p</th>\n",
              "      <th>specialisation</th>\n",
              "      <th>workex</th>\n",
              "      <th>status</th>\n",
              "    </tr>\n",
              "  </thead>\n",
              "  <tbody>\n",
              "    <tr>\n",
              "      <th>0</th>\n",
              "      <td>M</td>\n",
              "      <td>73.976975</td>\n",
              "      <td>Central</td>\n",
              "      <td>77.392691</td>\n",
              "      <td>Others</td>\n",
              "      <td>Science</td>\n",
              "      <td>73.623151</td>\n",
              "      <td>Sci&amp;Tech</td>\n",
              "      <td>84.498310</td>\n",
              "      <td>67.207006</td>\n",
              "      <td>Mkt&amp;HR</td>\n",
              "      <td>Yes</td>\n",
              "      <td>Placed</td>\n",
              "    </tr>\n",
              "    <tr>\n",
              "      <th>1</th>\n",
              "      <td>M</td>\n",
              "      <td>62.000000</td>\n",
              "      <td>Others</td>\n",
              "      <td>62.000000</td>\n",
              "      <td>Others</td>\n",
              "      <td>Commerce</td>\n",
              "      <td>60.000000</td>\n",
              "      <td>Comm&amp;Mgmt</td>\n",
              "      <td>63.000000</td>\n",
              "      <td>52.380000</td>\n",
              "      <td>Mkt&amp;HR</td>\n",
              "      <td>Yes</td>\n",
              "      <td>Placed</td>\n",
              "    </tr>\n",
              "    <tr>\n",
              "      <th>2</th>\n",
              "      <td>M</td>\n",
              "      <td>80.965242</td>\n",
              "      <td>Others</td>\n",
              "      <td>67.104275</td>\n",
              "      <td>Others</td>\n",
              "      <td>Science</td>\n",
              "      <td>72.482621</td>\n",
              "      <td>Sci&amp;Tech</td>\n",
              "      <td>91.343588</td>\n",
              "      <td>71.392313</td>\n",
              "      <td>Mkt&amp;Fin</td>\n",
              "      <td>No</td>\n",
              "      <td>Placed</td>\n",
              "    </tr>\n",
              "    <tr>\n",
              "      <th>3</th>\n",
              "      <td>M</td>\n",
              "      <td>52.000000</td>\n",
              "      <td>Others</td>\n",
              "      <td>65.000000</td>\n",
              "      <td>Others</td>\n",
              "      <td>Arts</td>\n",
              "      <td>57.000000</td>\n",
              "      <td>Others</td>\n",
              "      <td>75.000000</td>\n",
              "      <td>59.810000</td>\n",
              "      <td>Mkt&amp;Fin</td>\n",
              "      <td>Yes</td>\n",
              "      <td>Not Placed</td>\n",
              "    </tr>\n",
              "    <tr>\n",
              "      <th>4</th>\n",
              "      <td>F</td>\n",
              "      <td>69.000000</td>\n",
              "      <td>Central</td>\n",
              "      <td>62.000000</td>\n",
              "      <td>Central</td>\n",
              "      <td>Science</td>\n",
              "      <td>66.000000</td>\n",
              "      <td>Sci&amp;Tech</td>\n",
              "      <td>75.000000</td>\n",
              "      <td>67.990000</td>\n",
              "      <td>Mkt&amp;HR</td>\n",
              "      <td>No</td>\n",
              "      <td>Not Placed</td>\n",
              "    </tr>\n",
              "  </tbody>\n",
              "</table>\n",
              "</div>"
            ],
            "text/plain": [
              "  gender      ssc_p    ssc_b      hsc_p    hsc_b     hsc_s   degree_p  \\\n",
              "0      M  73.976975  Central  77.392691   Others   Science  73.623151   \n",
              "1      M  62.000000   Others  62.000000   Others  Commerce  60.000000   \n",
              "2      M  80.965242   Others  67.104275   Others   Science  72.482621   \n",
              "3      M  52.000000   Others  65.000000   Others      Arts  57.000000   \n",
              "4      F  69.000000  Central  62.000000  Central   Science  66.000000   \n",
              "\n",
              "    degree_t    etest_p      mba_p specialisation workex      status  \n",
              "0   Sci&Tech  84.498310  67.207006         Mkt&HR    Yes      Placed  \n",
              "1  Comm&Mgmt  63.000000  52.380000         Mkt&HR    Yes      Placed  \n",
              "2   Sci&Tech  91.343588  71.392313        Mkt&Fin     No      Placed  \n",
              "3     Others  75.000000  59.810000        Mkt&Fin    Yes  Not Placed  \n",
              "4   Sci&Tech  75.000000  67.990000         Mkt&HR     No  Not Placed  "
            ]
          },
          "metadata": {
            "tags": []
          },
          "execution_count": 5
        }
      ]
    },
    {
      "cell_type": "code",
      "metadata": {
        "id": "YBPgjx7pv67Q"
      },
      "source": [
        "from sklearn.preprocessing import LabelEncoder\n",
        "le = LabelEncoder()\n",
        "train_data['status'] = le.fit_transform(train_data['status'])"
      ],
      "execution_count": null,
      "outputs": []
    },
    {
      "cell_type": "code",
      "metadata": {
        "colab": {
          "base_uri": "https://localhost:8080/",
          "height": 224
        },
        "id": "Uo3sXbWSv_4V",
        "outputId": "1a73ca1a-dd2a-4d00-fb42-d88f722644b7"
      },
      "source": [
        "train_data.head()"
      ],
      "execution_count": null,
      "outputs": [
        {
          "output_type": "execute_result",
          "data": {
            "text/html": [
              "<div>\n",
              "<style scoped>\n",
              "    .dataframe tbody tr th:only-of-type {\n",
              "        vertical-align: middle;\n",
              "    }\n",
              "\n",
              "    .dataframe tbody tr th {\n",
              "        vertical-align: top;\n",
              "    }\n",
              "\n",
              "    .dataframe thead th {\n",
              "        text-align: right;\n",
              "    }\n",
              "</style>\n",
              "<table border=\"1\" class=\"dataframe\">\n",
              "  <thead>\n",
              "    <tr style=\"text-align: right;\">\n",
              "      <th></th>\n",
              "      <th>gender</th>\n",
              "      <th>ssc_p</th>\n",
              "      <th>ssc_b</th>\n",
              "      <th>hsc_p</th>\n",
              "      <th>hsc_b</th>\n",
              "      <th>hsc_s</th>\n",
              "      <th>degree_p</th>\n",
              "      <th>degree_t</th>\n",
              "      <th>etest_p</th>\n",
              "      <th>mba_p</th>\n",
              "      <th>specialisation</th>\n",
              "      <th>workex</th>\n",
              "      <th>status</th>\n",
              "    </tr>\n",
              "  </thead>\n",
              "  <tbody>\n",
              "    <tr>\n",
              "      <th>0</th>\n",
              "      <td>M</td>\n",
              "      <td>73.976975</td>\n",
              "      <td>Central</td>\n",
              "      <td>77.392691</td>\n",
              "      <td>Others</td>\n",
              "      <td>Science</td>\n",
              "      <td>73.623151</td>\n",
              "      <td>Sci&amp;Tech</td>\n",
              "      <td>84.498310</td>\n",
              "      <td>67.207006</td>\n",
              "      <td>Mkt&amp;HR</td>\n",
              "      <td>Yes</td>\n",
              "      <td>1</td>\n",
              "    </tr>\n",
              "    <tr>\n",
              "      <th>1</th>\n",
              "      <td>M</td>\n",
              "      <td>62.000000</td>\n",
              "      <td>Others</td>\n",
              "      <td>62.000000</td>\n",
              "      <td>Others</td>\n",
              "      <td>Commerce</td>\n",
              "      <td>60.000000</td>\n",
              "      <td>Comm&amp;Mgmt</td>\n",
              "      <td>63.000000</td>\n",
              "      <td>52.380000</td>\n",
              "      <td>Mkt&amp;HR</td>\n",
              "      <td>Yes</td>\n",
              "      <td>1</td>\n",
              "    </tr>\n",
              "    <tr>\n",
              "      <th>2</th>\n",
              "      <td>M</td>\n",
              "      <td>80.965242</td>\n",
              "      <td>Others</td>\n",
              "      <td>67.104275</td>\n",
              "      <td>Others</td>\n",
              "      <td>Science</td>\n",
              "      <td>72.482621</td>\n",
              "      <td>Sci&amp;Tech</td>\n",
              "      <td>91.343588</td>\n",
              "      <td>71.392313</td>\n",
              "      <td>Mkt&amp;Fin</td>\n",
              "      <td>No</td>\n",
              "      <td>1</td>\n",
              "    </tr>\n",
              "    <tr>\n",
              "      <th>3</th>\n",
              "      <td>M</td>\n",
              "      <td>52.000000</td>\n",
              "      <td>Others</td>\n",
              "      <td>65.000000</td>\n",
              "      <td>Others</td>\n",
              "      <td>Arts</td>\n",
              "      <td>57.000000</td>\n",
              "      <td>Others</td>\n",
              "      <td>75.000000</td>\n",
              "      <td>59.810000</td>\n",
              "      <td>Mkt&amp;Fin</td>\n",
              "      <td>Yes</td>\n",
              "      <td>0</td>\n",
              "    </tr>\n",
              "    <tr>\n",
              "      <th>4</th>\n",
              "      <td>F</td>\n",
              "      <td>69.000000</td>\n",
              "      <td>Central</td>\n",
              "      <td>62.000000</td>\n",
              "      <td>Central</td>\n",
              "      <td>Science</td>\n",
              "      <td>66.000000</td>\n",
              "      <td>Sci&amp;Tech</td>\n",
              "      <td>75.000000</td>\n",
              "      <td>67.990000</td>\n",
              "      <td>Mkt&amp;HR</td>\n",
              "      <td>No</td>\n",
              "      <td>0</td>\n",
              "    </tr>\n",
              "  </tbody>\n",
              "</table>\n",
              "</div>"
            ],
            "text/plain": [
              "  gender      ssc_p    ssc_b      hsc_p    hsc_b     hsc_s   degree_p  \\\n",
              "0      M  73.976975  Central  77.392691   Others   Science  73.623151   \n",
              "1      M  62.000000   Others  62.000000   Others  Commerce  60.000000   \n",
              "2      M  80.965242   Others  67.104275   Others   Science  72.482621   \n",
              "3      M  52.000000   Others  65.000000   Others      Arts  57.000000   \n",
              "4      F  69.000000  Central  62.000000  Central   Science  66.000000   \n",
              "\n",
              "    degree_t    etest_p      mba_p specialisation workex  status  \n",
              "0   Sci&Tech  84.498310  67.207006         Mkt&HR    Yes       1  \n",
              "1  Comm&Mgmt  63.000000  52.380000         Mkt&HR    Yes       1  \n",
              "2   Sci&Tech  91.343588  71.392313        Mkt&Fin     No       1  \n",
              "3     Others  75.000000  59.810000        Mkt&Fin    Yes       0  \n",
              "4   Sci&Tech  75.000000  67.990000         Mkt&HR     No       0  "
            ]
          },
          "metadata": {
            "tags": []
          },
          "execution_count": 7
        }
      ]
    },
    {
      "cell_type": "markdown",
      "metadata": {
        "id": "7JYIL-l6hlDW"
      },
      "source": [
        "# Data Pre-processing"
      ]
    },
    {
      "cell_type": "code",
      "metadata": {
        "id": "WXl2FFtYwCID"
      },
      "source": [
        "cat_df = train_data[[\"ssc_b\", \"hsc_b\", \"degree_t\", \"specialisation\",\"workex\",\"gender\",\"hsc_s\"]]\n",
        "statu_df = train_data['status']"
      ],
      "execution_count": null,
      "outputs": []
    },
    {
      "cell_type": "code",
      "metadata": {
        "id": "c8k74ksKwL-g"
      },
      "source": [
        "# Input/independent variables\n",
        "X = train_data.drop([\"ssc_b\", \"hsc_b\", \"degree_t\", \"specialisation\",\"workex\",\"gender\",\"hsc_s\",\"status\"], axis = 1)\n",
        "\n",
        "y = train_data['status'] # Target variable"
      ],
      "execution_count": null,
      "outputs": []
    },
    {
      "cell_type": "code",
      "metadata": {
        "id": "4TxGjwTgwON0"
      },
      "source": [
        "\n",
        "cols= X.columns\n",
        "index = X.index"
      ],
      "execution_count": null,
      "outputs": []
    },
    {
      "cell_type": "code",
      "metadata": {
        "id": "ubhoyAB9wQZ0"
      },
      "source": [
        "from sklearn.preprocessing import RobustScaler\n",
        "transformer = RobustScaler().fit(X)\n",
        "X = transformer.transform(X)\n",
        "X = pd.DataFrame(X, columns =cols , index = index)"
      ],
      "execution_count": null,
      "outputs": []
    },
    {
      "cell_type": "code",
      "metadata": {
        "id": "GYHHCrl6wZCg"
      },
      "source": [
        "X = pd.concat([X,cat_df], axis = 1)\n"
      ],
      "execution_count": null,
      "outputs": []
    },
    {
      "cell_type": "code",
      "metadata": {
        "id": "MvRz_V_JwbmS"
      },
      "source": [
        "X = pd.concat([X,statu_df], axis = 1)\n"
      ],
      "execution_count": null,
      "outputs": []
    },
    {
      "cell_type": "code",
      "metadata": {
        "colab": {
          "base_uri": "https://localhost:8080/",
          "height": 224
        },
        "id": "cIjPJowHwde6",
        "outputId": "5fe71734-bf52-4bbd-8c4a-c90e665ec31c"
      },
      "source": [
        "X.head()"
      ],
      "execution_count": null,
      "outputs": [
        {
          "output_type": "execute_result",
          "data": {
            "text/html": [
              "<div>\n",
              "<style scoped>\n",
              "    .dataframe tbody tr th:only-of-type {\n",
              "        vertical-align: middle;\n",
              "    }\n",
              "\n",
              "    .dataframe tbody tr th {\n",
              "        vertical-align: top;\n",
              "    }\n",
              "\n",
              "    .dataframe thead th {\n",
              "        text-align: right;\n",
              "    }\n",
              "</style>\n",
              "<table border=\"1\" class=\"dataframe\">\n",
              "  <thead>\n",
              "    <tr style=\"text-align: right;\">\n",
              "      <th></th>\n",
              "      <th>ssc_p</th>\n",
              "      <th>hsc_p</th>\n",
              "      <th>degree_p</th>\n",
              "      <th>etest_p</th>\n",
              "      <th>mba_p</th>\n",
              "      <th>ssc_b</th>\n",
              "      <th>hsc_b</th>\n",
              "      <th>degree_t</th>\n",
              "      <th>specialisation</th>\n",
              "      <th>workex</th>\n",
              "      <th>gender</th>\n",
              "      <th>hsc_s</th>\n",
              "      <th>status</th>\n",
              "    </tr>\n",
              "  </thead>\n",
              "  <tbody>\n",
              "    <tr>\n",
              "      <th>0</th>\n",
              "      <td>0.363904</td>\n",
              "      <td>1.153339</td>\n",
              "      <td>0.848631</td>\n",
              "      <td>0.598328</td>\n",
              "      <td>0.635794</td>\n",
              "      <td>Central</td>\n",
              "      <td>Others</td>\n",
              "      <td>Sci&amp;Tech</td>\n",
              "      <td>Mkt&amp;HR</td>\n",
              "      <td>Yes</td>\n",
              "      <td>M</td>\n",
              "      <td>Science</td>\n",
              "      <td>1</td>\n",
              "    </tr>\n",
              "    <tr>\n",
              "      <th>1</th>\n",
              "      <td>-0.408271</td>\n",
              "      <td>-0.251234</td>\n",
              "      <td>-0.477658</td>\n",
              "      <td>-0.489871</td>\n",
              "      <td>-1.359173</td>\n",
              "      <td>Others</td>\n",
              "      <td>Others</td>\n",
              "      <td>Comm&amp;Mgmt</td>\n",
              "      <td>Mkt&amp;HR</td>\n",
              "      <td>Yes</td>\n",
              "      <td>M</td>\n",
              "      <td>Commerce</td>\n",
              "      <td>1</td>\n",
              "    </tr>\n",
              "    <tr>\n",
              "      <th>2</th>\n",
              "      <td>0.814449</td>\n",
              "      <td>0.214528</td>\n",
              "      <td>0.737594</td>\n",
              "      <td>0.944822</td>\n",
              "      <td>1.198925</td>\n",
              "      <td>Others</td>\n",
              "      <td>Others</td>\n",
              "      <td>Sci&amp;Tech</td>\n",
              "      <td>Mkt&amp;Fin</td>\n",
              "      <td>No</td>\n",
              "      <td>M</td>\n",
              "      <td>Science</td>\n",
              "      <td>1</td>\n",
              "    </tr>\n",
              "    <tr>\n",
              "      <th>3</th>\n",
              "      <td>-1.052987</td>\n",
              "      <td>0.022514</td>\n",
              "      <td>-0.769725</td>\n",
              "      <td>0.117544</td>\n",
              "      <td>-0.359470</td>\n",
              "      <td>Others</td>\n",
              "      <td>Others</td>\n",
              "      <td>Others</td>\n",
              "      <td>Mkt&amp;Fin</td>\n",
              "      <td>Yes</td>\n",
              "      <td>M</td>\n",
              "      <td>Arts</td>\n",
              "      <td>0</td>\n",
              "    </tr>\n",
              "    <tr>\n",
              "      <th>4</th>\n",
              "      <td>0.043031</td>\n",
              "      <td>-0.251234</td>\n",
              "      <td>0.106475</td>\n",
              "      <td>0.117544</td>\n",
              "      <td>0.741145</td>\n",
              "      <td>Central</td>\n",
              "      <td>Central</td>\n",
              "      <td>Sci&amp;Tech</td>\n",
              "      <td>Mkt&amp;HR</td>\n",
              "      <td>No</td>\n",
              "      <td>F</td>\n",
              "      <td>Science</td>\n",
              "      <td>0</td>\n",
              "    </tr>\n",
              "  </tbody>\n",
              "</table>\n",
              "</div>"
            ],
            "text/plain": [
              "      ssc_p     hsc_p  degree_p   etest_p     mba_p    ssc_b    hsc_b  \\\n",
              "0  0.363904  1.153339  0.848631  0.598328  0.635794  Central   Others   \n",
              "1 -0.408271 -0.251234 -0.477658 -0.489871 -1.359173   Others   Others   \n",
              "2  0.814449  0.214528  0.737594  0.944822  1.198925   Others   Others   \n",
              "3 -1.052987  0.022514 -0.769725  0.117544 -0.359470   Others   Others   \n",
              "4  0.043031 -0.251234  0.106475  0.117544  0.741145  Central  Central   \n",
              "\n",
              "    degree_t specialisation workex gender     hsc_s  status  \n",
              "0   Sci&Tech         Mkt&HR    Yes      M   Science       1  \n",
              "1  Comm&Mgmt         Mkt&HR    Yes      M  Commerce       1  \n",
              "2   Sci&Tech        Mkt&Fin     No      M   Science       1  \n",
              "3     Others        Mkt&Fin    Yes      M      Arts       0  \n",
              "4   Sci&Tech         Mkt&HR     No      F   Science       0  "
            ]
          },
          "metadata": {
            "tags": []
          },
          "execution_count": 14
        }
      ]
    },
    {
      "cell_type": "code",
      "metadata": {
        "colab": {
          "base_uri": "https://localhost:8080/"
        },
        "id": "11AHL66Ewe03",
        "outputId": "57abda3e-2a33-438f-e3ff-da1b6179c03e"
      },
      "source": [
        "print(X.shape, y.shape)\n"
      ],
      "execution_count": null,
      "outputs": [
        {
          "output_type": "stream",
          "text": [
            "(670, 13) (670,)\n"
          ],
          "name": "stdout"
        }
      ]
    },
    {
      "cell_type": "code",
      "metadata": {
        "id": "-o0tg4Zaw02l"
      },
      "source": [
        "train_data = pd.get_dummies(X)\n"
      ],
      "execution_count": null,
      "outputs": []
    },
    {
      "cell_type": "code",
      "metadata": {
        "colab": {
          "base_uri": "https://localhost:8080/",
          "height": 224
        },
        "id": "zmV_JIkbxKbU",
        "outputId": "4d90b636-55d9-452c-bd2f-acd582c43aa0"
      },
      "source": [
        "train_data.head()"
      ],
      "execution_count": null,
      "outputs": [
        {
          "output_type": "execute_result",
          "data": {
            "text/html": [
              "<div>\n",
              "<style scoped>\n",
              "    .dataframe tbody tr th:only-of-type {\n",
              "        vertical-align: middle;\n",
              "    }\n",
              "\n",
              "    .dataframe tbody tr th {\n",
              "        vertical-align: top;\n",
              "    }\n",
              "\n",
              "    .dataframe thead th {\n",
              "        text-align: right;\n",
              "    }\n",
              "</style>\n",
              "<table border=\"1\" class=\"dataframe\">\n",
              "  <thead>\n",
              "    <tr style=\"text-align: right;\">\n",
              "      <th></th>\n",
              "      <th>ssc_p</th>\n",
              "      <th>hsc_p</th>\n",
              "      <th>degree_p</th>\n",
              "      <th>etest_p</th>\n",
              "      <th>mba_p</th>\n",
              "      <th>status</th>\n",
              "      <th>ssc_b_Central</th>\n",
              "      <th>ssc_b_Others</th>\n",
              "      <th>hsc_b_Central</th>\n",
              "      <th>hsc_b_Others</th>\n",
              "      <th>degree_t_Comm&amp;Mgmt</th>\n",
              "      <th>degree_t_Others</th>\n",
              "      <th>degree_t_Sci&amp;Tech</th>\n",
              "      <th>specialisation_Mkt&amp;Fin</th>\n",
              "      <th>specialisation_Mkt&amp;HR</th>\n",
              "      <th>workex_No</th>\n",
              "      <th>workex_Yes</th>\n",
              "      <th>gender_F</th>\n",
              "      <th>gender_M</th>\n",
              "      <th>hsc_s_Arts</th>\n",
              "      <th>hsc_s_Commerce</th>\n",
              "      <th>hsc_s_Science</th>\n",
              "    </tr>\n",
              "  </thead>\n",
              "  <tbody>\n",
              "    <tr>\n",
              "      <th>0</th>\n",
              "      <td>0.363904</td>\n",
              "      <td>1.153339</td>\n",
              "      <td>0.848631</td>\n",
              "      <td>0.598328</td>\n",
              "      <td>0.635794</td>\n",
              "      <td>1</td>\n",
              "      <td>1</td>\n",
              "      <td>0</td>\n",
              "      <td>0</td>\n",
              "      <td>1</td>\n",
              "      <td>0</td>\n",
              "      <td>0</td>\n",
              "      <td>1</td>\n",
              "      <td>0</td>\n",
              "      <td>1</td>\n",
              "      <td>0</td>\n",
              "      <td>1</td>\n",
              "      <td>0</td>\n",
              "      <td>1</td>\n",
              "      <td>0</td>\n",
              "      <td>0</td>\n",
              "      <td>1</td>\n",
              "    </tr>\n",
              "    <tr>\n",
              "      <th>1</th>\n",
              "      <td>-0.408271</td>\n",
              "      <td>-0.251234</td>\n",
              "      <td>-0.477658</td>\n",
              "      <td>-0.489871</td>\n",
              "      <td>-1.359173</td>\n",
              "      <td>1</td>\n",
              "      <td>0</td>\n",
              "      <td>1</td>\n",
              "      <td>0</td>\n",
              "      <td>1</td>\n",
              "      <td>1</td>\n",
              "      <td>0</td>\n",
              "      <td>0</td>\n",
              "      <td>0</td>\n",
              "      <td>1</td>\n",
              "      <td>0</td>\n",
              "      <td>1</td>\n",
              "      <td>0</td>\n",
              "      <td>1</td>\n",
              "      <td>0</td>\n",
              "      <td>1</td>\n",
              "      <td>0</td>\n",
              "    </tr>\n",
              "    <tr>\n",
              "      <th>2</th>\n",
              "      <td>0.814449</td>\n",
              "      <td>0.214528</td>\n",
              "      <td>0.737594</td>\n",
              "      <td>0.944822</td>\n",
              "      <td>1.198925</td>\n",
              "      <td>1</td>\n",
              "      <td>0</td>\n",
              "      <td>1</td>\n",
              "      <td>0</td>\n",
              "      <td>1</td>\n",
              "      <td>0</td>\n",
              "      <td>0</td>\n",
              "      <td>1</td>\n",
              "      <td>1</td>\n",
              "      <td>0</td>\n",
              "      <td>1</td>\n",
              "      <td>0</td>\n",
              "      <td>0</td>\n",
              "      <td>1</td>\n",
              "      <td>0</td>\n",
              "      <td>0</td>\n",
              "      <td>1</td>\n",
              "    </tr>\n",
              "    <tr>\n",
              "      <th>3</th>\n",
              "      <td>-1.052987</td>\n",
              "      <td>0.022514</td>\n",
              "      <td>-0.769725</td>\n",
              "      <td>0.117544</td>\n",
              "      <td>-0.359470</td>\n",
              "      <td>0</td>\n",
              "      <td>0</td>\n",
              "      <td>1</td>\n",
              "      <td>0</td>\n",
              "      <td>1</td>\n",
              "      <td>0</td>\n",
              "      <td>1</td>\n",
              "      <td>0</td>\n",
              "      <td>1</td>\n",
              "      <td>0</td>\n",
              "      <td>0</td>\n",
              "      <td>1</td>\n",
              "      <td>0</td>\n",
              "      <td>1</td>\n",
              "      <td>1</td>\n",
              "      <td>0</td>\n",
              "      <td>0</td>\n",
              "    </tr>\n",
              "    <tr>\n",
              "      <th>4</th>\n",
              "      <td>0.043031</td>\n",
              "      <td>-0.251234</td>\n",
              "      <td>0.106475</td>\n",
              "      <td>0.117544</td>\n",
              "      <td>0.741145</td>\n",
              "      <td>0</td>\n",
              "      <td>1</td>\n",
              "      <td>0</td>\n",
              "      <td>1</td>\n",
              "      <td>0</td>\n",
              "      <td>0</td>\n",
              "      <td>0</td>\n",
              "      <td>1</td>\n",
              "      <td>0</td>\n",
              "      <td>1</td>\n",
              "      <td>1</td>\n",
              "      <td>0</td>\n",
              "      <td>1</td>\n",
              "      <td>0</td>\n",
              "      <td>0</td>\n",
              "      <td>0</td>\n",
              "      <td>1</td>\n",
              "    </tr>\n",
              "  </tbody>\n",
              "</table>\n",
              "</div>"
            ],
            "text/plain": [
              "      ssc_p     hsc_p  degree_p   etest_p     mba_p  status  ssc_b_Central  \\\n",
              "0  0.363904  1.153339  0.848631  0.598328  0.635794       1              1   \n",
              "1 -0.408271 -0.251234 -0.477658 -0.489871 -1.359173       1              0   \n",
              "2  0.814449  0.214528  0.737594  0.944822  1.198925       1              0   \n",
              "3 -1.052987  0.022514 -0.769725  0.117544 -0.359470       0              0   \n",
              "4  0.043031 -0.251234  0.106475  0.117544  0.741145       0              1   \n",
              "\n",
              "   ssc_b_Others  hsc_b_Central  hsc_b_Others  degree_t_Comm&Mgmt  \\\n",
              "0             0              0             1                   0   \n",
              "1             1              0             1                   1   \n",
              "2             1              0             1                   0   \n",
              "3             1              0             1                   0   \n",
              "4             0              1             0                   0   \n",
              "\n",
              "   degree_t_Others  degree_t_Sci&Tech  specialisation_Mkt&Fin  \\\n",
              "0                0                  1                       0   \n",
              "1                0                  0                       0   \n",
              "2                0                  1                       1   \n",
              "3                1                  0                       1   \n",
              "4                0                  1                       0   \n",
              "\n",
              "   specialisation_Mkt&HR  workex_No  workex_Yes  gender_F  gender_M  \\\n",
              "0                      1          0           1         0         1   \n",
              "1                      1          0           1         0         1   \n",
              "2                      0          1           0         0         1   \n",
              "3                      0          0           1         0         1   \n",
              "4                      1          1           0         1         0   \n",
              "\n",
              "   hsc_s_Arts  hsc_s_Commerce  hsc_s_Science  \n",
              "0           0               0              1  \n",
              "1           0               1              0  \n",
              "2           0               0              1  \n",
              "3           1               0              0  \n",
              "4           0               0              1  "
            ]
          },
          "metadata": {
            "tags": []
          },
          "execution_count": 17
        }
      ]
    },
    {
      "cell_type": "code",
      "metadata": {
        "id": "5NyWxGS4xUxr"
      },
      "source": [
        "train_data = train_data.drop('status',axis=1)"
      ],
      "execution_count": null,
      "outputs": []
    },
    {
      "cell_type": "code",
      "metadata": {
        "colab": {
          "base_uri": "https://localhost:8080/",
          "height": 224
        },
        "id": "H3ORgaHlxZ3t",
        "outputId": "96cf340e-b956-4abe-8b3b-076e1e08780b"
      },
      "source": [
        "train_data.head()"
      ],
      "execution_count": null,
      "outputs": [
        {
          "output_type": "execute_result",
          "data": {
            "text/html": [
              "<div>\n",
              "<style scoped>\n",
              "    .dataframe tbody tr th:only-of-type {\n",
              "        vertical-align: middle;\n",
              "    }\n",
              "\n",
              "    .dataframe tbody tr th {\n",
              "        vertical-align: top;\n",
              "    }\n",
              "\n",
              "    .dataframe thead th {\n",
              "        text-align: right;\n",
              "    }\n",
              "</style>\n",
              "<table border=\"1\" class=\"dataframe\">\n",
              "  <thead>\n",
              "    <tr style=\"text-align: right;\">\n",
              "      <th></th>\n",
              "      <th>ssc_p</th>\n",
              "      <th>hsc_p</th>\n",
              "      <th>degree_p</th>\n",
              "      <th>etest_p</th>\n",
              "      <th>mba_p</th>\n",
              "      <th>ssc_b_Central</th>\n",
              "      <th>ssc_b_Others</th>\n",
              "      <th>hsc_b_Central</th>\n",
              "      <th>hsc_b_Others</th>\n",
              "      <th>degree_t_Comm&amp;Mgmt</th>\n",
              "      <th>degree_t_Others</th>\n",
              "      <th>degree_t_Sci&amp;Tech</th>\n",
              "      <th>specialisation_Mkt&amp;Fin</th>\n",
              "      <th>specialisation_Mkt&amp;HR</th>\n",
              "      <th>workex_No</th>\n",
              "      <th>workex_Yes</th>\n",
              "      <th>gender_F</th>\n",
              "      <th>gender_M</th>\n",
              "      <th>hsc_s_Arts</th>\n",
              "      <th>hsc_s_Commerce</th>\n",
              "      <th>hsc_s_Science</th>\n",
              "    </tr>\n",
              "  </thead>\n",
              "  <tbody>\n",
              "    <tr>\n",
              "      <th>0</th>\n",
              "      <td>0.363904</td>\n",
              "      <td>1.153339</td>\n",
              "      <td>0.848631</td>\n",
              "      <td>0.598328</td>\n",
              "      <td>0.635794</td>\n",
              "      <td>1</td>\n",
              "      <td>0</td>\n",
              "      <td>0</td>\n",
              "      <td>1</td>\n",
              "      <td>0</td>\n",
              "      <td>0</td>\n",
              "      <td>1</td>\n",
              "      <td>0</td>\n",
              "      <td>1</td>\n",
              "      <td>0</td>\n",
              "      <td>1</td>\n",
              "      <td>0</td>\n",
              "      <td>1</td>\n",
              "      <td>0</td>\n",
              "      <td>0</td>\n",
              "      <td>1</td>\n",
              "    </tr>\n",
              "    <tr>\n",
              "      <th>1</th>\n",
              "      <td>-0.408271</td>\n",
              "      <td>-0.251234</td>\n",
              "      <td>-0.477658</td>\n",
              "      <td>-0.489871</td>\n",
              "      <td>-1.359173</td>\n",
              "      <td>0</td>\n",
              "      <td>1</td>\n",
              "      <td>0</td>\n",
              "      <td>1</td>\n",
              "      <td>1</td>\n",
              "      <td>0</td>\n",
              "      <td>0</td>\n",
              "      <td>0</td>\n",
              "      <td>1</td>\n",
              "      <td>0</td>\n",
              "      <td>1</td>\n",
              "      <td>0</td>\n",
              "      <td>1</td>\n",
              "      <td>0</td>\n",
              "      <td>1</td>\n",
              "      <td>0</td>\n",
              "    </tr>\n",
              "    <tr>\n",
              "      <th>2</th>\n",
              "      <td>0.814449</td>\n",
              "      <td>0.214528</td>\n",
              "      <td>0.737594</td>\n",
              "      <td>0.944822</td>\n",
              "      <td>1.198925</td>\n",
              "      <td>0</td>\n",
              "      <td>1</td>\n",
              "      <td>0</td>\n",
              "      <td>1</td>\n",
              "      <td>0</td>\n",
              "      <td>0</td>\n",
              "      <td>1</td>\n",
              "      <td>1</td>\n",
              "      <td>0</td>\n",
              "      <td>1</td>\n",
              "      <td>0</td>\n",
              "      <td>0</td>\n",
              "      <td>1</td>\n",
              "      <td>0</td>\n",
              "      <td>0</td>\n",
              "      <td>1</td>\n",
              "    </tr>\n",
              "    <tr>\n",
              "      <th>3</th>\n",
              "      <td>-1.052987</td>\n",
              "      <td>0.022514</td>\n",
              "      <td>-0.769725</td>\n",
              "      <td>0.117544</td>\n",
              "      <td>-0.359470</td>\n",
              "      <td>0</td>\n",
              "      <td>1</td>\n",
              "      <td>0</td>\n",
              "      <td>1</td>\n",
              "      <td>0</td>\n",
              "      <td>1</td>\n",
              "      <td>0</td>\n",
              "      <td>1</td>\n",
              "      <td>0</td>\n",
              "      <td>0</td>\n",
              "      <td>1</td>\n",
              "      <td>0</td>\n",
              "      <td>1</td>\n",
              "      <td>1</td>\n",
              "      <td>0</td>\n",
              "      <td>0</td>\n",
              "    </tr>\n",
              "    <tr>\n",
              "      <th>4</th>\n",
              "      <td>0.043031</td>\n",
              "      <td>-0.251234</td>\n",
              "      <td>0.106475</td>\n",
              "      <td>0.117544</td>\n",
              "      <td>0.741145</td>\n",
              "      <td>1</td>\n",
              "      <td>0</td>\n",
              "      <td>1</td>\n",
              "      <td>0</td>\n",
              "      <td>0</td>\n",
              "      <td>0</td>\n",
              "      <td>1</td>\n",
              "      <td>0</td>\n",
              "      <td>1</td>\n",
              "      <td>1</td>\n",
              "      <td>0</td>\n",
              "      <td>1</td>\n",
              "      <td>0</td>\n",
              "      <td>0</td>\n",
              "      <td>0</td>\n",
              "      <td>1</td>\n",
              "    </tr>\n",
              "  </tbody>\n",
              "</table>\n",
              "</div>"
            ],
            "text/plain": [
              "      ssc_p     hsc_p  degree_p   etest_p     mba_p  ssc_b_Central  \\\n",
              "0  0.363904  1.153339  0.848631  0.598328  0.635794              1   \n",
              "1 -0.408271 -0.251234 -0.477658 -0.489871 -1.359173              0   \n",
              "2  0.814449  0.214528  0.737594  0.944822  1.198925              0   \n",
              "3 -1.052987  0.022514 -0.769725  0.117544 -0.359470              0   \n",
              "4  0.043031 -0.251234  0.106475  0.117544  0.741145              1   \n",
              "\n",
              "   ssc_b_Others  hsc_b_Central  hsc_b_Others  degree_t_Comm&Mgmt  \\\n",
              "0             0              0             1                   0   \n",
              "1             1              0             1                   1   \n",
              "2             1              0             1                   0   \n",
              "3             1              0             1                   0   \n",
              "4             0              1             0                   0   \n",
              "\n",
              "   degree_t_Others  degree_t_Sci&Tech  specialisation_Mkt&Fin  \\\n",
              "0                0                  1                       0   \n",
              "1                0                  0                       0   \n",
              "2                0                  1                       1   \n",
              "3                1                  0                       1   \n",
              "4                0                  1                       0   \n",
              "\n",
              "   specialisation_Mkt&HR  workex_No  workex_Yes  gender_F  gender_M  \\\n",
              "0                      1          0           1         0         1   \n",
              "1                      1          0           1         0         1   \n",
              "2                      0          1           0         0         1   \n",
              "3                      0          0           1         0         1   \n",
              "4                      1          1           0         1         0   \n",
              "\n",
              "   hsc_s_Arts  hsc_s_Commerce  hsc_s_Science  \n",
              "0           0               0              1  \n",
              "1           0               1              0  \n",
              "2           0               0              1  \n",
              "3           1               0              0  \n",
              "4           0               0              1  "
            ]
          },
          "metadata": {
            "tags": []
          },
          "execution_count": 19
        }
      ]
    },
    {
      "cell_type": "code",
      "metadata": {
        "id": "gixgQswYwk22"
      },
      "source": [
        "# Train-Test Separation\n",
        "from sklearn.model_selection import train_test_split\n",
        "\n",
        "X_train, X_test, y_train, y_test = train_test_split(train_data, y, \n",
        "                                                    test_size=0.3, \n",
        "                                                    random_state=12345)"
      ],
      "execution_count": null,
      "outputs": []
    },
    {
      "cell_type": "code",
      "metadata": {
        "colab": {
          "base_uri": "https://localhost:8080/"
        },
        "id": "lOpMoJH-wnr2",
        "outputId": "d7979b1a-366c-4662-d89a-a9eaf303b8c4"
      },
      "source": [
        "# Because it's an unstable data set, we're going to increase the number of samples.\n",
        "# References: https://imbalanced-learn.readthedocs.io/en/stable/generated/imblearn.combine.SMOTETomek.html\n",
        "from imblearn.combine import SMOTETomek\n",
        "\n",
        "smk = SMOTETomek()\n",
        "# Oversample training  data\n",
        "X_train, y_train = smk.fit_sample(X_train, y_train)\n",
        "\n",
        "# Oversample validation data\n",
        "X_test, y_test = smk.fit_sample(X_test, y_test)\n",
        "\n",
        "print(X_train.shape, X_test.shape, y_train.shape, y_test.shape)\n"
      ],
      "execution_count": null,
      "outputs": [
        {
          "output_type": "stream",
          "text": [
            "(626, 21) (246, 21) (626,) (246,)\n"
          ],
          "name": "stdout"
        }
      ]
    },
    {
      "cell_type": "markdown",
      "metadata": {
        "id": "GjhBIZ4Hg0pV"
      },
      "source": [
        "# Building Machine learning clasification Models"
      ]
    },
    {
      "cell_type": "markdown",
      "metadata": {
        "id": "qik_gLFDhroy"
      },
      "source": [
        "The most frequently used machine learning classification algorithms are : \n",
        "\n",
        "\n",
        "1.   Logistic Regression\n",
        "2.   K nearest neighbors\n",
        "3.   Decision Tree classifier\n",
        "4.   Random Forest Classifier\n",
        "5.   Support vector machine\n",
        "6.   Gradient Boosting Classifier\n",
        "7.   LGBM classifier \n",
        "8.   CatBoost Classifier\n",
        "\n"
      ]
    },
    {
      "cell_type": "code",
      "metadata": {
        "id": "_oiYrOI-wsb9"
      },
      "source": [
        "models = []\n",
        "models.append(('LR', LogisticRegression(random_state = 12345)))\n",
        "models.append(('KNN', KNeighborsClassifier()))\n",
        "models.append(('CART', DecisionTreeClassifier(random_state = 12345)))\n",
        "models.append(('RF', RandomForestClassifier(random_state = 12345)))\n",
        "models.append(('SVM', SVC(gamma='auto', random_state = 12345)))\n",
        "models.append(('XGB', GradientBoostingClassifier(random_state = 12345)))\n",
        "models.append((\"LightGBM\", LGBMClassifier(random_state = 12345)))\n",
        "models.append((\"CatBoost\", CatBoostClassifier(random_state = 12345, verbose = False)))\n",
        "\n",
        "# evaluate each model in turn\n",
        "results = []\n",
        "names = []"
      ],
      "execution_count": null,
      "outputs": []
    },
    {
      "cell_type": "code",
      "metadata": {
        "colab": {
          "base_uri": "https://localhost:8080/"
        },
        "id": "PgEzIrBQw70_",
        "outputId": "7172d1ea-9441-4855-89b8-ee5c83cd02e5"
      },
      "source": [
        "for name, model in models:\n",
        "        model.fit(X_train, y_train)\n",
        "        y_pred = model.predict(X_test)\n",
        "        accuracy = accuracy_score(y_test, y_pred)\n",
        "        msg = \"%s: (%f)\" % (name, accuracy)\n",
        "        print(msg)"
      ],
      "execution_count": null,
      "outputs": [
        {
          "output_type": "stream",
          "text": [
            "LR: (0.951220)\n",
            "KNN: (0.943089)\n",
            "CART: (0.910569)\n",
            "RF: (0.971545)\n",
            "SVM: (0.967480)\n",
            "XGB: (0.963415)\n",
            "LightGBM: (0.959350)\n",
            "CatBoost: (0.963415)\n"
          ],
          "name": "stdout"
        }
      ]
    },
    {
      "cell_type": "markdown",
      "metadata": {
        "id": "NbrtFV9kMMpD"
      },
      "source": [
        "#LightGBM"
      ]
    },
    {
      "cell_type": "code",
      "metadata": {
        "colab": {
          "base_uri": "https://localhost:8080/"
        },
        "id": "1gmlwieEMOoE",
        "outputId": "4fb95b90-983b-4c97-8e61-13e9a232ddc0"
      },
      "source": [
        "LightGBM = LGBMClassifier(random_state = 12345)\n",
        "LightGBM = LogisticRegression(random_state = 12345)\n",
        "LightGBM.fit(X_train, y_train)\n",
        "\n",
        "y_pred = LightGBM.predict(X_test)\n",
        "accuracy = accuracy_score(y_test, y_pred)\n",
        "print(accuracy)"
      ],
      "execution_count": null,
      "outputs": [
        {
          "output_type": "stream",
          "text": [
            "0.9512195121951219\n"
          ],
          "name": "stdout"
        }
      ]
    },
    {
      "cell_type": "markdown",
      "metadata": {
        "id": "pYzcWBFRGA_T"
      },
      "source": [
        "#Random Forest"
      ]
    },
    {
      "cell_type": "code",
      "metadata": {
        "colab": {
          "base_uri": "https://localhost:8080/"
        },
        "id": "n0QkdFgWGAdN",
        "outputId": "c304d470-bebe-4a24-ffd3-ffc661134a48"
      },
      "source": [
        "RF = RandomForestClassifier(random_state = 12345)\n",
        "\n",
        "RF = LogisticRegression(random_state = 12345)\n",
        "RF.fit(X_train, y_train)\n",
        "\n",
        "y_pred = RF.predict(X_test)\n",
        "accuracy = accuracy_score(y_test, y_pred)\n",
        "print(accuracy)"
      ],
      "execution_count": null,
      "outputs": [
        {
          "output_type": "stream",
          "text": [
            "0.9428571428571428\n"
          ],
          "name": "stdout"
        }
      ]
    },
    {
      "cell_type": "code",
      "metadata": {
        "colab": {
          "base_uri": "https://localhost:8080/"
        },
        "id": "H5hYgXYkPDY8",
        "outputId": "3e57dfe7-7da4-4d6d-8b70-b8f8d1b0c4ed"
      },
      "source": [
        "RF = RandomForestClassifier(n_estimators = 100, criterion = 'entropy', random_state = 0 , max_depth=10)\n",
        "\n",
        "\n",
        "RF = LogisticRegression(random_state = 12345)\n",
        "RF.fit(X_train, y_train)\n",
        "\n",
        "y_pred = RF.predict(X_test)\n",
        "accuracy = accuracy_score(y_test, y_pred)\n",
        "print(accuracy)"
      ],
      "execution_count": null,
      "outputs": [
        {
          "output_type": "stream",
          "text": [
            "0.9512195121951219\n"
          ],
          "name": "stdout"
        }
      ]
    },
    {
      "cell_type": "code",
      "metadata": {
        "colab": {
          "base_uri": "https://localhost:8080/"
        },
        "id": "i8DYHd5vH2HK",
        "outputId": "09cee45d-2ea2-4c2d-ac3c-3360a8cf983b"
      },
      "source": [
        "from sklearn.model_selection import RandomizedSearchCV\n",
        "# Number of trees in random forest\n",
        "n_estimators = [int(x) for x in np.linspace(start = 200, stop = 2000, num = 10)]\n",
        "# Number of features to consider at every split\n",
        "max_features = ['auto', 'sqrt']\n",
        "# Maximum number of levels in tree\n",
        "max_depth = [int(x) for x in np.linspace(10, 110, num = 11)]\n",
        "max_depth.append(None)\n",
        "# Minimum number of samples required to split a node\n",
        "min_samples_split = [2, 5, 10]\n",
        "# Minimum number of samples required at each leaf node\n",
        "min_samples_leaf = [1, 2, 4]\n",
        "# Method of selecting samples for training each tree\n",
        "bootstrap = [True, False]\n",
        "# Create the random grid\n",
        "random_grid = {'n_estimators': n_estimators,\n",
        "               'max_features': max_features,\n",
        "               'max_depth': max_depth,\n",
        "               'min_samples_split': min_samples_split,\n",
        "               'min_samples_leaf': min_samples_leaf,\n",
        "               'bootstrap': bootstrap}\n",
        "print(random_grid)\n",
        "{'bootstrap': [True, False],\n",
        " 'max_depth': [10, 20, 30, 40, 50, 60, 70, 80, 90, 100, None],\n",
        " 'max_features': ['auto', 'sqrt'],\n",
        " 'min_samples_leaf': [1, 2, 4],\n",
        " 'min_samples_split': [2, 5, 10],\n",
        " 'n_estimators': [200, 400, 600, 800, 1000, 1200, 1400, 1600, 1800, 2000]}"
      ],
      "execution_count": null,
      "outputs": [
        {
          "output_type": "stream",
          "text": [
            "{'n_estimators': [200, 400, 600, 800, 1000, 1200, 1400, 1600, 1800, 2000], 'max_features': ['auto', 'sqrt'], 'max_depth': [10, 20, 30, 40, 50, 60, 70, 80, 90, 100, 110, None], 'min_samples_split': [2, 5, 10], 'min_samples_leaf': [1, 2, 4], 'bootstrap': [True, False]}\n"
          ],
          "name": "stdout"
        },
        {
          "output_type": "execute_result",
          "data": {
            "text/plain": [
              "{'bootstrap': [True, False],\n",
              " 'max_depth': [10, 20, 30, 40, 50, 60, 70, 80, 90, 100, None],\n",
              " 'max_features': ['auto', 'sqrt'],\n",
              " 'min_samples_leaf': [1, 2, 4],\n",
              " 'min_samples_split': [2, 5, 10],\n",
              " 'n_estimators': [200, 400, 600, 800, 1000, 1200, 1400, 1600, 1800, 2000]}"
            ]
          },
          "metadata": {
            "tags": []
          },
          "execution_count": 47
        }
      ]
    },
    {
      "cell_type": "code",
      "metadata": {
        "colab": {
          "base_uri": "https://localhost:8080/"
        },
        "id": "2Om_wwk1ICaC",
        "outputId": "aecddecd-430a-49e2-c59f-1da90eee2da6"
      },
      "source": [
        "from sklearn.ensemble import RandomForestRegressor\n",
        "\n",
        "\n",
        "# Use the random grid to search for best hyperparameters\n",
        "# First create the base model to tune\n",
        "rf = RandomForestRegressor()\n",
        "# Random search of parameters, using 3 fold cross validation, \n",
        "# search across 100 different combinations, and use all available cores\n",
        "rf_random = RandomizedSearchCV(estimator = rf, param_distributions = random_grid, n_iter = 100, cv = 3, verbose=2, random_state=42, n_jobs = -1)\n",
        "# Fit the random search model\n",
        "rf_random.fit(X_train, y_train)"
      ],
      "execution_count": null,
      "outputs": [
        {
          "output_type": "stream",
          "text": [
            "Fitting 3 folds for each of 100 candidates, totalling 300 fits\n"
          ],
          "name": "stdout"
        },
        {
          "output_type": "stream",
          "text": [
            "[Parallel(n_jobs=-1)]: Using backend LokyBackend with 2 concurrent workers.\n",
            "[Parallel(n_jobs=-1)]: Done  37 tasks      | elapsed:   49.7s\n",
            "[Parallel(n_jobs=-1)]: Done 158 tasks      | elapsed:  3.4min\n",
            "[Parallel(n_jobs=-1)]: Done 300 out of 300 | elapsed:  6.4min finished\n"
          ],
          "name": "stderr"
        },
        {
          "output_type": "execute_result",
          "data": {
            "text/plain": [
              "RandomizedSearchCV(cv=3, error_score=nan,\n",
              "                   estimator=RandomForestRegressor(bootstrap=True,\n",
              "                                                   ccp_alpha=0.0,\n",
              "                                                   criterion='mse',\n",
              "                                                   max_depth=None,\n",
              "                                                   max_features='auto',\n",
              "                                                   max_leaf_nodes=None,\n",
              "                                                   max_samples=None,\n",
              "                                                   min_impurity_decrease=0.0,\n",
              "                                                   min_impurity_split=None,\n",
              "                                                   min_samples_leaf=1,\n",
              "                                                   min_samples_split=2,\n",
              "                                                   min_weight_fraction_leaf=0.0,\n",
              "                                                   n_estimators=100,\n",
              "                                                   n_jobs=None, oob_score=Fals...\n",
              "                   param_distributions={'bootstrap': [True, False],\n",
              "                                        'max_depth': [10, 20, 30, 40, 50, 60,\n",
              "                                                      70, 80, 90, 100, 110,\n",
              "                                                      None],\n",
              "                                        'max_features': ['auto', 'sqrt'],\n",
              "                                        'min_samples_leaf': [1, 2, 4],\n",
              "                                        'min_samples_split': [2, 5, 10],\n",
              "                                        'n_estimators': [200, 400, 600, 800,\n",
              "                                                         1000, 1200, 1400, 1600,\n",
              "                                                         1800, 2000]},\n",
              "                   pre_dispatch='2*n_jobs', random_state=42, refit=True,\n",
              "                   return_train_score=False, scoring=None, verbose=2)"
            ]
          },
          "metadata": {
            "tags": []
          },
          "execution_count": 50
        }
      ]
    },
    {
      "cell_type": "code",
      "metadata": {
        "colab": {
          "base_uri": "https://localhost:8080/"
        },
        "id": "nbkAJHf0Jzos",
        "outputId": "6c31dbae-a6ff-47dc-e1e8-d11efc332df0"
      },
      "source": [
        "rf_random.best_params_\n",
        "{'bootstrap': True,\n",
        " 'max_depth': 70,\n",
        " 'max_features': 'auto',\n",
        " 'min_samples_leaf': 4,\n",
        " 'min_samples_split': 10,\n",
        " 'n_estimators': 400}"
      ],
      "execution_count": null,
      "outputs": [
        {
          "output_type": "execute_result",
          "data": {
            "text/plain": [
              "{'bootstrap': True,\n",
              " 'max_depth': 70,\n",
              " 'max_features': 'auto',\n",
              " 'min_samples_leaf': 4,\n",
              " 'min_samples_split': 10,\n",
              " 'n_estimators': 400}"
            ]
          },
          "metadata": {
            "tags": []
          },
          "execution_count": 51
        }
      ]
    },
    {
      "cell_type": "code",
      "metadata": {
        "colab": {
          "base_uri": "https://localhost:8080/"
        },
        "id": "RS6x5ffzKUQb",
        "outputId": "6b53fd3e-fbea-4974-b038-b08acebec398"
      },
      "source": [
        "RF = RandomForestRegressor(n_estimators = 400, random_state = 42,bootstrap=True,max_depth=70,max_features='auto',min_samples_leaf='4',min_samples_split='10')\n",
        "\n",
        "RF = LogisticRegression(random_state = 12345)\n",
        "RF.fit(X_train, y_train)\n",
        "\n",
        "y_pred = RF.predict(X_test)\n",
        "accuracy = accuracy_score(y_test, y_pred)\n",
        "print(accuracy)"
      ],
      "execution_count": null,
      "outputs": [
        {
          "output_type": "stream",
          "text": [
            "0.9428571428571428\n"
          ],
          "name": "stdout"
        }
      ]
    },
    {
      "cell_type": "code",
      "metadata": {
        "colab": {
          "base_uri": "https://localhost:8080/"
        },
        "id": "pc7XCLKtLLqk",
        "outputId": "2467a343-c6b6-4ff0-8574-69f0b83af8c4"
      },
      "source": [
        "RF = RandomForestRegressor(n_estimators = 10, random_state = 42,bootstrap=True,max_depth=10,max_features='auto',min_samples_leaf='4',min_samples_split='10')\n",
        "\n",
        "RF = LogisticRegression(random_state = 12345)\n",
        "RF.fit(X_train, y_train)\n",
        "\n",
        "y_pred = RF.predict(X_test)\n",
        "accuracy = accuracy_score(y_test, y_pred)\n",
        "print(accuracy)"
      ],
      "execution_count": null,
      "outputs": [
        {
          "output_type": "stream",
          "text": [
            "0.9428571428571428\n"
          ],
          "name": "stdout"
        }
      ]
    },
    {
      "cell_type": "markdown",
      "metadata": {
        "id": "6vENv-LFzIik"
      },
      "source": [
        "#LogisticRegression"
      ]
    },
    {
      "cell_type": "code",
      "metadata": {
        "colab": {
          "base_uri": "https://localhost:8080/"
        },
        "id": "lDeRBO8uxgIb",
        "outputId": "ca46a2ef-7c9c-4e19-a5c3-2affbfd5a4f2"
      },
      "source": [
        "# Importing LogisticRegression from sklearn.linear_model\n",
        "from sklearn.linear_model import LogisticRegression\n",
        "\n",
        "LR = LogisticRegression(random_state = 12345)\n",
        "LR.fit(X_train, y_train)\n",
        "\n",
        "y_pred = LR.predict(X_test)\n",
        "accuracy = accuracy_score(y_test, y_pred)\n",
        "print(accuracy)"
      ],
      "execution_count": null,
      "outputs": [
        {
          "output_type": "stream",
          "text": [
            "0.9588235294117647\n"
          ],
          "name": "stdout"
        }
      ]
    },
    {
      "cell_type": "markdown",
      "metadata": {
        "id": "0Xv7ETGBzObc"
      },
      "source": [
        "#CatBoost"
      ]
    },
    {
      "cell_type": "code",
      "metadata": {
        "colab": {
          "base_uri": "https://localhost:8080/"
        },
        "id": "wwKsczB1zNrE",
        "outputId": "fe99acb9-5ab8-4514-d95f-cc40c7629ae9"
      },
      "source": [
        "catboost =CatBoostClassifier(random_state = 12345, verbose = False, depth = 10, iterations = 1000, l2_leaf_reg = 5, learning_rate = 0.01)\n",
        "\n",
        "catboost.fit(X_train, y_train)\n",
        "\n",
        "y_pred = catboost.predict(X_test)\n",
        "accuracy = accuracy_score(y_test, y_pred)\n",
        "print(accuracy)\n"
      ],
      "execution_count": null,
      "outputs": [
        {
          "output_type": "stream",
          "text": [
            "0.9642857142857143\n"
          ],
          "name": "stdout"
        }
      ]
    },
    {
      "cell_type": "markdown",
      "metadata": {
        "id": "QAzJlV4u0F7d"
      },
      "source": [
        "#LightGBM"
      ]
    },
    {
      "cell_type": "code",
      "metadata": {
        "colab": {
          "base_uri": "https://localhost:8080/"
        },
        "id": "sLDF3d2U0FgI",
        "outputId": "cef7bc0f-b9ba-448a-877e-624ce892e132"
      },
      "source": [
        "LightGBM =LGBMClassifier(random_state = 12345,  learning_rate = 0.05, max_depth = 3, n_estimators = 1000)\n",
        "\n",
        "LightGBM.fit(X_train, y_train)\n",
        "\n",
        "y_pred = LightGBM.predict(X_test)\n",
        "accuracy = accuracy_score(y_test, y_pred)\n",
        "print(accuracy)\n"
      ],
      "execution_count": null,
      "outputs": [
        {
          "output_type": "stream",
          "text": [
            "0.967479674796748\n"
          ],
          "name": "stdout"
        }
      ]
    },
    {
      "cell_type": "code",
      "metadata": {
        "id": "47kKjpCa0aye"
      },
      "source": [
        "models2 = []\n",
        "models2.append(('CART', DecisionTreeClassifier( random_state = 12345)))\n",
        "models2.append(('RF', RandomForestClassifier( random_state = 12345)))\n",
        "models2.append(('XGB', GradientBoostingClassifier( random_state = 12345)))\n",
        "models2.append((\"LightGBM\", LGBMClassifier( random_state = 12345)))\n",
        "models2.append((\"CatBoost\", CatBoostClassifier(random_state = 12345, verbose = False)))"
      ],
      "execution_count": null,
      "outputs": []
    },
    {
      "cell_type": "code",
      "metadata": {
        "colab": {
          "base_uri": "https://localhost:8080/"
        },
        "id": "2uDahmMJ0bp-",
        "outputId": "3942b129-cec8-4074-eb20-48fec11c7d93"
      },
      "source": [
        "for name, model in models2:\n",
        "        base = model.fit(X_train,y_train)\n",
        "        y_pred = base.predict(X_test)\n",
        "        accuracy = accuracy_score(y_test, y_pred)\n",
        "        msg = \"%s: (%f)\" % (name, accuracy)\n",
        "        print(msg)"
      ],
      "execution_count": null,
      "outputs": [
        {
          "output_type": "stream",
          "text": [
            "CART: (0.914286)\n",
            "RF: (0.978571)\n",
            "XGB: (0.964286)\n",
            "LightGBM: (0.967857)\n",
            "CatBoost: (0.964286)\n"
          ],
          "name": "stdout"
        }
      ]
    },
    {
      "cell_type": "code",
      "metadata": {
        "colab": {
          "base_uri": "https://localhost:8080/"
        },
        "id": "PJnNg80j0j_N",
        "outputId": "1db71487-b98f-4383-b557-ce89eaffc996"
      },
      "source": [
        "# Hyperparameters have previously been obtained with the help of GridSearchCV.\n",
        "models = []\n",
        "models.append(('XGB', GradientBoostingClassifier(random_state = 12345,learning_rate = 0.05, max_depth = 5, min_samples_split = 2, n_estimators = 500, subsample = 0.8)))\n",
        "models.append((\"LightGBM\", LGBMClassifier(random_state = 12345,  learning_rate = 0.05, max_depth = 3, n_estimators = 1000)))\n",
        "models.append((\"CatBoost\", CatBoostClassifier(random_state = 12345, verbose = False, depth = 10, iterations = 1000, l2_leaf_reg = 5, learning_rate = 0.01)))\n",
        "\n",
        "# evaluate each model in turn\n",
        "results = []\n",
        "names = []\n",
        "\n",
        "for name, model in models:\n",
        "        model.fit(X_train, y_train)\n",
        "        y_pred = model.predict(X_test)\n",
        "        accuracy = accuracy_score(y_test, y_pred)\n",
        "        msg = \"%s: (%f)\" % (name, accuracy)\n",
        "        print(msg)"
      ],
      "execution_count": null,
      "outputs": [
        {
          "output_type": "stream",
          "text": [
            "XGB: (0.951220)\n",
            "LightGBM: (0.967480)\n",
            "CatBoost: (0.963415)\n"
          ],
          "name": "stdout"
        }
      ]
    },
    {
      "cell_type": "markdown",
      "metadata": {
        "id": "PbZEVzi_0upw"
      },
      "source": [
        "#XGB"
      ]
    },
    {
      "cell_type": "code",
      "metadata": {
        "colab": {
          "base_uri": "https://localhost:8080/"
        },
        "id": "L63W50r-0qyR",
        "outputId": "506a59c6-9772-4a82-d214-c2889c35557a"
      },
      "source": [
        "XGB = GradientBoostingClassifier(random_state = 12345,learning_rate = 0.05, max_depth = 5, min_samples_split = 2, n_estimators = 500, subsample = 0.8)\n",
        "\n",
        "XGB.fit(X_train, y_train)\n",
        "\n",
        "y_pred = XGB.predict(X_test)\n",
        "accuracy = accuracy_score(y_test, y_pred)\n",
        "print(accuracy)"
      ],
      "execution_count": null,
      "outputs": [
        {
          "output_type": "stream",
          "text": [
            "0.9705882352941176\n"
          ],
          "name": "stdout"
        }
      ]
    },
    {
      "cell_type": "markdown",
      "metadata": {
        "id": "UT2WKiShgWFl"
      },
      "source": [
        "# Testing on test data"
      ]
    },
    {
      "cell_type": "code",
      "metadata": {
        "id": "_lvOUJ-wxm5P"
      },
      "source": [
        "test_data = pd.read_csv('/content/drive/MyDrive/Dphi_Competition/Campus Recruitment/Test_Data.csv')"
      ],
      "execution_count": null,
      "outputs": []
    },
    {
      "cell_type": "code",
      "metadata": {
        "colab": {
          "base_uri": "https://localhost:8080/",
          "height": 224
        },
        "id": "U54HMHBsxty9",
        "outputId": "0efe6ef6-6fdc-4e27-f08e-0741e541c815"
      },
      "source": [
        "test_data.head()"
      ],
      "execution_count": null,
      "outputs": [
        {
          "output_type": "execute_result",
          "data": {
            "text/html": [
              "<div>\n",
              "<style scoped>\n",
              "    .dataframe tbody tr th:only-of-type {\n",
              "        vertical-align: middle;\n",
              "    }\n",
              "\n",
              "    .dataframe tbody tr th {\n",
              "        vertical-align: top;\n",
              "    }\n",
              "\n",
              "    .dataframe thead th {\n",
              "        text-align: right;\n",
              "    }\n",
              "</style>\n",
              "<table border=\"1\" class=\"dataframe\">\n",
              "  <thead>\n",
              "    <tr style=\"text-align: right;\">\n",
              "      <th></th>\n",
              "      <th>gender</th>\n",
              "      <th>ssc_p</th>\n",
              "      <th>ssc_b</th>\n",
              "      <th>hsc_p</th>\n",
              "      <th>hsc_b</th>\n",
              "      <th>hsc_s</th>\n",
              "      <th>degree_p</th>\n",
              "      <th>etest_p</th>\n",
              "      <th>mba_p</th>\n",
              "      <th>degree_t</th>\n",
              "      <th>workex</th>\n",
              "      <th>specialisation</th>\n",
              "    </tr>\n",
              "  </thead>\n",
              "  <tbody>\n",
              "    <tr>\n",
              "      <th>0</th>\n",
              "      <td>M</td>\n",
              "      <td>73.163372</td>\n",
              "      <td>Central</td>\n",
              "      <td>68.535901</td>\n",
              "      <td>Central</td>\n",
              "      <td>Science</td>\n",
              "      <td>71.581686</td>\n",
              "      <td>58.954215</td>\n",
              "      <td>58.235587</td>\n",
              "      <td>Comm&amp;Mgmt</td>\n",
              "      <td>Yes</td>\n",
              "      <td>Mkt&amp;Fin</td>\n",
              "    </tr>\n",
              "    <tr>\n",
              "      <th>1</th>\n",
              "      <td>M</td>\n",
              "      <td>74.000000</td>\n",
              "      <td>Central</td>\n",
              "      <td>70.000000</td>\n",
              "      <td>Central</td>\n",
              "      <td>Science</td>\n",
              "      <td>72.000000</td>\n",
              "      <td>60.000000</td>\n",
              "      <td>57.240000</td>\n",
              "      <td>Comm&amp;Mgmt</td>\n",
              "      <td>Yes</td>\n",
              "      <td>Mkt&amp;Fin</td>\n",
              "    </tr>\n",
              "    <tr>\n",
              "      <th>2</th>\n",
              "      <td>M</td>\n",
              "      <td>85.613691</td>\n",
              "      <td>Central</td>\n",
              "      <td>61.718334</td>\n",
              "      <td>Others</td>\n",
              "      <td>Science</td>\n",
              "      <td>70.962963</td>\n",
              "      <td>59.590873</td>\n",
              "      <td>60.635396</td>\n",
              "      <td>Sci&amp;Tech</td>\n",
              "      <td>Yes</td>\n",
              "      <td>Mkt&amp;HR</td>\n",
              "    </tr>\n",
              "    <tr>\n",
              "      <th>3</th>\n",
              "      <td>M</td>\n",
              "      <td>77.909979</td>\n",
              "      <td>Others</td>\n",
              "      <td>81.549151</td>\n",
              "      <td>Others</td>\n",
              "      <td>Science</td>\n",
              "      <td>69.847510</td>\n",
              "      <td>85.178574</td>\n",
              "      <td>64.304440</td>\n",
              "      <td>Sci&amp;Tech</td>\n",
              "      <td>Yes</td>\n",
              "      <td>Mkt&amp;Fin</td>\n",
              "    </tr>\n",
              "    <tr>\n",
              "      <th>4</th>\n",
              "      <td>M</td>\n",
              "      <td>80.851350</td>\n",
              "      <td>Others</td>\n",
              "      <td>66.168927</td>\n",
              "      <td>Others</td>\n",
              "      <td>Science</td>\n",
              "      <td>67.743252</td>\n",
              "      <td>87.851350</td>\n",
              "      <td>68.660478</td>\n",
              "      <td>Sci&amp;Tech</td>\n",
              "      <td>Yes</td>\n",
              "      <td>Mkt&amp;Fin</td>\n",
              "    </tr>\n",
              "  </tbody>\n",
              "</table>\n",
              "</div>"
            ],
            "text/plain": [
              "  gender      ssc_p    ssc_b      hsc_p    hsc_b    hsc_s   degree_p  \\\n",
              "0      M  73.163372  Central  68.535901  Central  Science  71.581686   \n",
              "1      M  74.000000  Central  70.000000  Central  Science  72.000000   \n",
              "2      M  85.613691  Central  61.718334   Others  Science  70.962963   \n",
              "3      M  77.909979   Others  81.549151   Others  Science  69.847510   \n",
              "4      M  80.851350   Others  66.168927   Others  Science  67.743252   \n",
              "\n",
              "     etest_p      mba_p   degree_t workex specialisation  \n",
              "0  58.954215  58.235587  Comm&Mgmt    Yes        Mkt&Fin  \n",
              "1  60.000000  57.240000  Comm&Mgmt    Yes        Mkt&Fin  \n",
              "2  59.590873  60.635396   Sci&Tech    Yes         Mkt&HR  \n",
              "3  85.178574  64.304440   Sci&Tech    Yes        Mkt&Fin  \n",
              "4  87.851350  68.660478   Sci&Tech    Yes        Mkt&Fin  "
            ]
          },
          "metadata": {
            "tags": []
          },
          "execution_count": 28
        }
      ]
    },
    {
      "cell_type": "code",
      "metadata": {
        "id": "WU1z0u5lx3v1"
      },
      "source": [
        "# Input/independent variables\n",
        "test_data_cat = test_data[[\"ssc_b\", \"hsc_b\", \"degree_t\", \"specialisation\",\"workex\",\"gender\",\"hsc_s\"]]"
      ],
      "execution_count": null,
      "outputs": []
    },
    {
      "cell_type": "code",
      "metadata": {
        "colab": {
          "base_uri": "https://localhost:8080/",
          "height": 204
        },
        "id": "SzpRauPzx-I0",
        "outputId": "a7883879-4428-4014-f72e-2b4ed2dc0107"
      },
      "source": [
        "test_data_cat.head()"
      ],
      "execution_count": null,
      "outputs": [
        {
          "output_type": "execute_result",
          "data": {
            "text/html": [
              "<div>\n",
              "<style scoped>\n",
              "    .dataframe tbody tr th:only-of-type {\n",
              "        vertical-align: middle;\n",
              "    }\n",
              "\n",
              "    .dataframe tbody tr th {\n",
              "        vertical-align: top;\n",
              "    }\n",
              "\n",
              "    .dataframe thead th {\n",
              "        text-align: right;\n",
              "    }\n",
              "</style>\n",
              "<table border=\"1\" class=\"dataframe\">\n",
              "  <thead>\n",
              "    <tr style=\"text-align: right;\">\n",
              "      <th></th>\n",
              "      <th>ssc_b</th>\n",
              "      <th>hsc_b</th>\n",
              "      <th>degree_t</th>\n",
              "      <th>specialisation</th>\n",
              "      <th>workex</th>\n",
              "      <th>gender</th>\n",
              "      <th>hsc_s</th>\n",
              "    </tr>\n",
              "  </thead>\n",
              "  <tbody>\n",
              "    <tr>\n",
              "      <th>0</th>\n",
              "      <td>Central</td>\n",
              "      <td>Central</td>\n",
              "      <td>Comm&amp;Mgmt</td>\n",
              "      <td>Mkt&amp;Fin</td>\n",
              "      <td>Yes</td>\n",
              "      <td>M</td>\n",
              "      <td>Science</td>\n",
              "    </tr>\n",
              "    <tr>\n",
              "      <th>1</th>\n",
              "      <td>Central</td>\n",
              "      <td>Central</td>\n",
              "      <td>Comm&amp;Mgmt</td>\n",
              "      <td>Mkt&amp;Fin</td>\n",
              "      <td>Yes</td>\n",
              "      <td>M</td>\n",
              "      <td>Science</td>\n",
              "    </tr>\n",
              "    <tr>\n",
              "      <th>2</th>\n",
              "      <td>Central</td>\n",
              "      <td>Others</td>\n",
              "      <td>Sci&amp;Tech</td>\n",
              "      <td>Mkt&amp;HR</td>\n",
              "      <td>Yes</td>\n",
              "      <td>M</td>\n",
              "      <td>Science</td>\n",
              "    </tr>\n",
              "    <tr>\n",
              "      <th>3</th>\n",
              "      <td>Others</td>\n",
              "      <td>Others</td>\n",
              "      <td>Sci&amp;Tech</td>\n",
              "      <td>Mkt&amp;Fin</td>\n",
              "      <td>Yes</td>\n",
              "      <td>M</td>\n",
              "      <td>Science</td>\n",
              "    </tr>\n",
              "    <tr>\n",
              "      <th>4</th>\n",
              "      <td>Others</td>\n",
              "      <td>Others</td>\n",
              "      <td>Sci&amp;Tech</td>\n",
              "      <td>Mkt&amp;Fin</td>\n",
              "      <td>Yes</td>\n",
              "      <td>M</td>\n",
              "      <td>Science</td>\n",
              "    </tr>\n",
              "  </tbody>\n",
              "</table>\n",
              "</div>"
            ],
            "text/plain": [
              "     ssc_b    hsc_b   degree_t specialisation workex gender    hsc_s\n",
              "0  Central  Central  Comm&Mgmt        Mkt&Fin    Yes      M  Science\n",
              "1  Central  Central  Comm&Mgmt        Mkt&Fin    Yes      M  Science\n",
              "2  Central   Others   Sci&Tech         Mkt&HR    Yes      M  Science\n",
              "3   Others   Others   Sci&Tech        Mkt&Fin    Yes      M  Science\n",
              "4   Others   Others   Sci&Tech        Mkt&Fin    Yes      M  Science"
            ]
          },
          "metadata": {
            "tags": []
          },
          "execution_count": 30
        }
      ]
    },
    {
      "cell_type": "code",
      "metadata": {
        "id": "r0t4yWqtyV9t"
      },
      "source": [
        "test_data = test_data.drop([\"ssc_b\", \"hsc_b\", \"degree_t\", \"specialisation\",\"workex\",\"gender\",\"hsc_s\"], axis = 1)"
      ],
      "execution_count": null,
      "outputs": []
    },
    {
      "cell_type": "code",
      "metadata": {
        "id": "jqC7cHRzyij5"
      },
      "source": [
        "cols= test_data.columns\n",
        "index = test_data.index"
      ],
      "execution_count": null,
      "outputs": []
    },
    {
      "cell_type": "code",
      "metadata": {
        "id": "ILHAXdokyEyG"
      },
      "source": [
        "from sklearn.preprocessing import RobustScaler\n",
        "transformer = RobustScaler().fit(test_data)\n",
        "test_data = transformer.transform(test_data)\n",
        "test_data = pd.DataFrame(test_data, columns =cols , index = index)"
      ],
      "execution_count": null,
      "outputs": []
    },
    {
      "cell_type": "code",
      "metadata": {
        "id": "lHaGUH6dxspN"
      },
      "source": [
        "test_data = pd.concat([test_data,test_data_cat], axis = 1)\n"
      ],
      "execution_count": null,
      "outputs": []
    },
    {
      "cell_type": "code",
      "metadata": {
        "id": "PoDcQs-Qy4lg"
      },
      "source": [
        "test_data = pd.get_dummies(test_data)"
      ],
      "execution_count": null,
      "outputs": []
    },
    {
      "cell_type": "code",
      "metadata": {
        "id": "v8NSGSJzxrOi"
      },
      "source": [
        "################################\"\n",
        "target = RF.predict(test_data)\n",
        "################################\n",
        "\n",
        "from sklearn import preprocessing\n",
        "le = preprocessing.LabelEncoder()\n",
        "# In read_csv() function, we have passed the location to where the files are located in the dphi official github page.\n",
        "train_data = pd.read_csv(\"/content/drive/MyDrive/Dphi_Competition/Campus Recruitment/Train_Data.csv\")\n",
        "y = train_data['status']\n",
        "le.fit(y)\n",
        "\n",
        "target = le.inverse_transform(target)"
      ],
      "execution_count": null,
      "outputs": []
    },
    {
      "cell_type": "markdown",
      "metadata": {
        "id": "3Umn25NVgpC_"
      },
      "source": [
        "#Save prediction results locally via colab notebook"
      ]
    },
    {
      "cell_type": "code",
      "metadata": {
        "colab": {
          "base_uri": "https://localhost:8080/",
          "height": 17
        },
        "id": "EzLq4o21y8p5",
        "outputId": "7aff7010-b250-43f1-e0cc-393525687d9f"
      },
      "source": [
        "# To create Dataframe of predicted value with particular respective index\n",
        "res = pd.DataFrame(target) # target are nothing but the final predictions of your model on input features of your new unseen test data\n",
        "res.columns = [\"prediction\"]\n",
        "\n",
        "# To download the csv file locally\n",
        "from google.colab import files\n",
        "res.to_csv('submission.csv', index = False)\n",
        "files.download('submission.csv')"
      ],
      "execution_count": null,
      "outputs": [
        {
          "output_type": "display_data",
          "data": {
            "application/javascript": [
              "\n",
              "    async function download(id, filename, size) {\n",
              "      if (!google.colab.kernel.accessAllowed) {\n",
              "        return;\n",
              "      }\n",
              "      const div = document.createElement('div');\n",
              "      const label = document.createElement('label');\n",
              "      label.textContent = `Downloading \"${filename}\": `;\n",
              "      div.appendChild(label);\n",
              "      const progress = document.createElement('progress');\n",
              "      progress.max = size;\n",
              "      div.appendChild(progress);\n",
              "      document.body.appendChild(div);\n",
              "\n",
              "      const buffers = [];\n",
              "      let downloaded = 0;\n",
              "\n",
              "      const channel = await google.colab.kernel.comms.open(id);\n",
              "      // Send a message to notify the kernel that we're ready.\n",
              "      channel.send({})\n",
              "\n",
              "      for await (const message of channel.messages) {\n",
              "        // Send a message to notify the kernel that we're ready.\n",
              "        channel.send({})\n",
              "        if (message.buffers) {\n",
              "          for (const buffer of message.buffers) {\n",
              "            buffers.push(buffer);\n",
              "            downloaded += buffer.byteLength;\n",
              "            progress.value = downloaded;\n",
              "          }\n",
              "        }\n",
              "      }\n",
              "      const blob = new Blob(buffers, {type: 'application/binary'});\n",
              "      const a = document.createElement('a');\n",
              "      a.href = window.URL.createObjectURL(blob);\n",
              "      a.download = filename;\n",
              "      div.appendChild(a);\n",
              "      a.click();\n",
              "      div.remove();\n",
              "    }\n",
              "  "
            ],
            "text/plain": [
              "<IPython.core.display.Javascript object>"
            ]
          },
          "metadata": {
            "tags": []
          }
        },
        {
          "output_type": "display_data",
          "data": {
            "application/javascript": [
              "download(\"download_d7c115e4-8b56-4250-85af-0c8cd42c8bea\", \"submission.csv\", 3811)"
            ],
            "text/plain": [
              "<IPython.core.display.Javascript object>"
            ]
          },
          "metadata": {
            "tags": []
          }
        }
      ]
    },
    {
      "cell_type": "markdown",
      "metadata": {
        "id": "KulprRLqgqMk"
      },
      "source": [
        "#For people who work locally : Save prediciton results locally via jupyter notebook"
      ]
    },
    {
      "cell_type": "code",
      "metadata": {
        "id": "yqie1191y-Hx"
      },
      "source": [
        "res = pd.DataFrame({'filename': test_images['filename'], 'label': predictions}) # prediction is nothing but the final predictions of your model on input features of your new unseen test data\n",
        "res.to_csv(\"submission.csv\", index = False) # the csv file will be saved locally on the same location where this notebook is located."
      ],
      "execution_count": null,
      "outputs": []
    }
  ]
}